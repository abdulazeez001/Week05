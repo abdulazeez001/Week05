{
  "nbformat": 4,
  "nbformat_minor": 0,
  "metadata": {
    "colab": {
      "name": "Pharmaceutical Sales Prediction across Multiple Store (Prediction of store sales).ipynb",
      "provenance": [],
      "collapsed_sections": []
    },
    "kernelspec": {
      "name": "python3",
      "display_name": "Python 3"
    }
  },
  "cells": [
    {
      "cell_type": "code",
      "metadata": {
        "id": "FERWYr82d8rw",
        "colab_type": "code",
        "colab": {
          "base_uri": "https://localhost:8080/",
          "height": 52
        },
        "outputId": "107d785f-c022-4c97-9349-c07b3c9a928d"
      },
      "source": [
        "import sys\n",
        "import pickle\n",
        " \n",
        "import numpy as np\n",
        "import pandas as pd\n",
        "import seaborn as sns\n",
        "import matplotlib.pyplot as plt\n",
        " \n",
        "from numpy import std\n",
        "from numpy import mean\n",
        "from joblib import dump\n",
        "from fbprophet import Prophet\n",
        "from sklearn.impute import KNNImputer\n",
        "from sklearn.pipeline import Pipeline\n",
        "from sklearn import preprocessing,metrics,model_selection\n",
        "from sklearn.preprocessing import StandardScaler, OneHotEncoder\n",
        "from sklearn.model_selection import train_test_split, cross_val_score, RepeatedStratifiedKFold\n",
        "from sklearn.ensemble import RandomForestRegressor,GradientBoostingRegressor,ExtraTreesRegressor\n",
        "from sklearn.metrics import confusion_matrix,classification_report,accuracy_score,mean_squared_error,mean_squared_error, r2_score, mean_absolute_error\n",
        " \n",
        "#set seaborn style\n",
        "sns.set(style=\"darkgrid\")"
      ],
      "execution_count": null,
      "outputs": [
        {
          "output_type": "stream",
          "text": [
            "/usr/local/lib/python3.6/dist-packages/statsmodels/tools/_testing.py:19: FutureWarning: pandas.util.testing is deprecated. Use the functions in the public API at pandas.testing instead.\n",
            "  import pandas.util.testing as tm\n"
          ],
          "name": "stderr"
        }
      ]
    },
    {
      "cell_type": "code",
      "metadata": {
        "id": "aPo8ug7ZftCD",
        "colab_type": "code",
        "colab": {}
      },
      "source": [
        "#Import the data into a dataframe called data through github link. \n",
        "#Set low memory to false because the dataset is large.\n",
        " \n",
        "url_sample_submission = 'https://raw.githubusercontent.com/mwi-kali/Data/master/sample_submission.csv'\n",
        "url_store = 'https://raw.githubusercontent.com/mwi-kali/Data/master/store.csv'\n",
        "url_test = 'https://raw.githubusercontent.com/mwi-kali/Data/master/test.csv'\n",
        "url_train = 'https://raw.githubusercontent.com/mwi-kali/Data/master/train.csv'\n",
        " \n",
        "data_sample_submission = pd.read_csv(url_sample_submission, low_memory = False)\n",
        "data_store = pd.read_csv(url_store, low_memory = False)\n",
        "data_test = pd.read_csv(url_test, low_memory = False)\n",
        "data_train = pd.read_csv(url_train, low_memory = False)"
      ],
      "execution_count": null,
      "outputs": []
    },
    {
      "cell_type": "markdown",
      "metadata": {
        "id": "EK8uyNa5O8RD",
        "colab_type": "text"
      },
      "source": [
        "# **Data preprocessing**"
      ]
    },
    {
      "cell_type": "markdown",
      "metadata": {
        "id": "CRlroqmmNsb8",
        "colab_type": "text"
      },
      "source": [
        "It is important to process the data into a format where it can be fed to a machine learning model. This typically means converting all non-numeric columns to numeric, handling NaN values and generating new features from already existing features. "
      ]
    },
    {
      "cell_type": "markdown",
      "metadata": {
        "id": "NKJmF8YbN0Be",
        "colab_type": "text"
      },
      "source": [
        "The use of a KNN model to predict or fill missing values is referred to as “Nearest Neighbor Imputation” or “KNN imputation.”"
      ]
    },
    {
      "cell_type": "code",
      "metadata": {
        "id": "ZlyQHMt0O_-W",
        "colab_type": "code",
        "colab": {}
      },
      "source": [
        "#fill in missing values with KNN approach\n",
        "imputer = KNNImputer(weights=\"uniform\")\n",
        "data_store.iloc[:,3:-1] = imputer.fit_transform(data_store.iloc[:,3:-1])\n",
        "\n",
        "#fill in missing values with mean \n",
        "data_test = data_test.fillna(data_test.mean())"
      ],
      "execution_count": null,
      "outputs": []
    },
    {
      "cell_type": "code",
      "metadata": {
        "id": "dJ0RMP5Kgwsa",
        "colab_type": "code",
        "colab": {}
      },
      "source": [
        "def date_range(data):\n",
        "  dates = pd.to_datetime(data['Date']).sort_values()\n",
        "  dates = dates.unique()\n",
        "  start_date = dates[0]\n",
        "  end_date = dates[-1]\n",
        "  print(\"Start date: \", start_date)\n",
        "  print(\"End Date: \", end_date)\n",
        "  date_range = pd.date_range(start_date, end_date).values"
      ],
      "execution_count": null,
      "outputs": []
    },
    {
      "cell_type": "code",
      "metadata": {
        "id": "9br5myilW7Mf",
        "colab_type": "code",
        "colab": {}
      },
      "source": [
        "datasets = [data_test , data_train]"
      ],
      "execution_count": null,
      "outputs": []
    },
    {
      "cell_type": "code",
      "metadata": {
        "id": "jL1nKKDmS4fy",
        "colab_type": "code",
        "colab": {
          "base_uri": "https://localhost:8080/",
          "height": 88
        },
        "outputId": "b9af9849-bb35-4546-c325-d25ce490571c"
      },
      "source": [
        "for data in datasets:\n",
        "  date_range(data)"
      ],
      "execution_count": null,
      "outputs": [
        {
          "output_type": "stream",
          "text": [
            "Start date:  2015-08-01T00:00:00.000000000\n",
            "End Date:  2015-09-17T00:00:00.000000000\n",
            "Start date:  2013-01-01T00:00:00.000000000\n",
            "End Date:  2015-07-31T00:00:00.000000000\n"
          ],
          "name": "stdout"
        }
      ]
    },
    {
      "cell_type": "code",
      "metadata": {
        "id": "lFLTa9JtRgOp",
        "colab_type": "code",
        "colab": {}
      },
      "source": [
        "for data in datasets:\n",
        "  all_columns = list(data.iloc[:,2:].columns)\n",
        "  for x in all_columns:\n",
        "    if x != 'Date':\n",
        "      try:\n",
        "          data[x] = np.where(data[x] > data[x].quantile(0.95), data[x].quantile(0.50), data[x])\n",
        "      except TypeError:\n",
        "          continue"
      ],
      "execution_count": null,
      "outputs": []
    },
    {
      "cell_type": "code",
      "metadata": {
        "id": "hcLnqrXDQrzd",
        "colab_type": "code",
        "colab": {
          "base_uri": "https://localhost:8080/",
          "height": 35
        },
        "outputId": "4cf1fc32-d3f4-4e41-c001-71ea63aba876"
      },
      "source": [
        "#remove no sales\n",
        "not_open = data_train[(data_train['Open'] == 0) & (data_train['Sales'] != 0)]\n",
        "print(\"No closed store with sales: \" + str(not_open.size == 0))\n",
        "data_train = data_train.loc[data_train['Sales'] > 0]"
      ],
      "execution_count": null,
      "outputs": [
        {
          "output_type": "stream",
          "text": [
            "No closed store with sales: True\n"
          ],
          "name": "stdout"
        }
      ]
    },
    {
      "cell_type": "code",
      "metadata": {
        "id": "ejKU7a8qhh3k",
        "colab_type": "code",
        "colab": {}
      },
      "source": [
        "datasets = [data_test , data_train]"
      ],
      "execution_count": null,
      "outputs": []
    },
    {
      "cell_type": "code",
      "metadata": {
        "colab_type": "code",
        "id": "_ieGdf3_YC7k",
        "colab": {}
      },
      "source": [
        "for data in datasets:\n",
        "  data['Date'] = pd.to_datetime(data['Date'])"
      ],
      "execution_count": null,
      "outputs": []
    },
    {
      "cell_type": "code",
      "metadata": {
        "id": "SUhGA4nXdG5o",
        "colab_type": "code",
        "colab": {}
      },
      "source": [
        "data_train['SalesPerCustomer'] = data_train['Sales'] / data_train['Customers']\n",
        "avg_store = data_train.groupby('Store')[['Sales', 'Customers', 'SalesPerCustomer']].median()\n",
        "avg_store.rename(columns=lambda x: 'Avg' + x, inplace=True)\n",
        "data_store = pd.merge(avg_store.reset_index(), data_store, on='Store',suffixes=(False, False))"
      ],
      "execution_count": null,
      "outputs": []
    },
    {
      "cell_type": "markdown",
      "metadata": {
        "id": "tTKF16l4PH2A",
        "colab_type": "text"
      },
      "source": [
        "### **Changing features data type**"
      ]
    },
    {
      "cell_type": "code",
      "metadata": {
        "id": "ZGIGWMo5TBAA",
        "colab_type": "code",
        "colab": {}
      },
      "source": [
        "class features:\n",
        "  def __init__(self):\n",
        "    print (\"Features object created\")\n",
        "  def string_to_int(self,store,train):\n",
        "    store.loc[:,'StoreType'] = store.loc[:,'StoreType'].astype('category').cat.codes\n",
        "    store.loc[:,'Assortment'] = store.loc[:,'Assortment'].astype('category').cat.codes\n",
        "    train.loc[:,\"StateHoliday\"] = train.loc[:,\"StateHoliday\"].astype('category').cat.codes\n",
        "    merged = pd.merge(train, store, on='Store', how='left')\n",
        "    return merged\n",
        "  def remove_nan(self,merged):\n",
        "    NaN_replace = 0\n",
        "    merged.fillna(NaN_replace, inplace=True)\n",
        "    merged['Year'] = merged.Date.dt.year\n",
        "    merged['Month'] = merged.Date.dt.month\n",
        "    merged['Day'] = merged.Date.dt.day\n",
        "    merged['Week'] = merged.Date.dt.week\n",
        "    return merged\n",
        "  def month_competetions(self,merged):\n",
        "    # Number of months that competition has existed for\n",
        "    NaN_replace = 0\n",
        "    merged['MonthsCompetitionOpen'] = 12 * (merged.loc[:,'Year'] - merged.loc[:,'CompetitionOpenSinceYear']) + \\\n",
        "    (merged.loc[:,'Month'] - merged.loc[:,'CompetitionOpenSinceMonth'])\n",
        "    merged.loc[merged['CompetitionOpenSinceYear'] == NaN_replace, 'MonthsCompetitionOpen'] = NaN_replace\n",
        "    return merged\n",
        "  def weeks_promo_open(self,merged):\n",
        "    # Number of weeks that promotion has existed for\n",
        "    NaN_replace = 0\n",
        "    merged['WeeksPromoOpen'] = 12 * (merged['Year'] - merged['Promo2SinceYear']) + \\\n",
        "    (merged['Date'].dt.weekofyear - merged['Promo2SinceWeek'])\n",
        "    merged.loc[merged['Promo2SinceYear'] == NaN_replace, 'WeeksPromoOpen'] = NaN_replace\n",
        "    return merged\n",
        "  def to_int(self,merged):\n",
        "    toInt = [\n",
        "        'CompetitionOpenSinceMonth',\n",
        "        'CompetitionOpenSinceYear',\n",
        "        'Promo2SinceWeek', \n",
        "        'Promo2SinceYear', \n",
        "        'MonthsCompetitionOpen', \n",
        "        'WeeksPromoOpen'\n",
        "    ]\n",
        "    merged[toInt] = merged[toInt].astype(int)\n",
        "    return merged\n",
        "  def add_mean(self,train,store):\n",
        "    med_store = train.groupby('Store')[['Sales', 'Customers','SalesPerCustomer']].mean()\n",
        "    med_store.rename(columns=lambda x: 'Med' + x, inplace=True)\n",
        "    store = pd.merge(med_store.reset_index(), store, on='Store',suffixes=(False, False))\n",
        "    return store"
      ],
      "execution_count": null,
      "outputs": []
    },
    {
      "cell_type": "code",
      "metadata": {
        "id": "K3Z0VpSITcVv",
        "colab_type": "code",
        "colab": {
          "base_uri": "https://localhost:8080/",
          "height": 35
        },
        "outputId": "c0dcc8ed-3b0a-48e6-fbb5-16b133fdcbc6"
      },
      "source": [
        "feature_selection = features()"
      ],
      "execution_count": null,
      "outputs": [
        {
          "output_type": "stream",
          "text": [
            "Features object created\n"
          ],
          "name": "stdout"
        }
      ]
    },
    {
      "cell_type": "code",
      "metadata": {
        "id": "Sf6iOs8mTeel",
        "colab_type": "code",
        "colab": {}
      },
      "source": [
        "data_store = feature_selection.add_mean(data_train,data_store)"
      ],
      "execution_count": null,
      "outputs": []
    },
    {
      "cell_type": "code",
      "metadata": {
        "id": "S9QfrS6YTgbH",
        "colab_type": "code",
        "colab": {}
      },
      "source": [
        "merge = feature_selection.string_to_int(data_store,data_train)"
      ],
      "execution_count": null,
      "outputs": []
    },
    {
      "cell_type": "code",
      "metadata": {
        "id": "ZDTc76nOTgeW",
        "colab_type": "code",
        "colab": {}
      },
      "source": [
        "merge = feature_selection.remove_nan(merge)"
      ],
      "execution_count": null,
      "outputs": []
    },
    {
      "cell_type": "code",
      "metadata": {
        "id": "PMSmdhmqTghf",
        "colab_type": "code",
        "colab": {}
      },
      "source": [
        "merge = feature_selection.month_competetions(merge)"
      ],
      "execution_count": null,
      "outputs": []
    },
    {
      "cell_type": "code",
      "metadata": {
        "id": "YbeXd6UPTgkq",
        "colab_type": "code",
        "colab": {}
      },
      "source": [
        "merge = feature_selection.weeks_promo_open(merge)"
      ],
      "execution_count": null,
      "outputs": []
    },
    {
      "cell_type": "code",
      "metadata": {
        "id": "R18GfbO3Tl0i",
        "colab_type": "code",
        "colab": {}
      },
      "source": [
        "merge = feature_selection.to_int(merge)"
      ],
      "execution_count": null,
      "outputs": []
    },
    {
      "cell_type": "code",
      "metadata": {
        "id": "C0PIv3RqTl67",
        "colab_type": "code",
        "colab": {}
      },
      "source": [
        "merge['CompetitionDistance'] = np.log(merge['CompetitionDistance'] + 1)"
      ],
      "execution_count": null,
      "outputs": []
    },
    {
      "cell_type": "markdown",
      "metadata": {
        "id": "hQkkn9dlO_zm",
        "colab_type": "text"
      },
      "source": [
        "### **Scale the data**"
      ]
    },
    {
      "cell_type": "markdown",
      "metadata": {
        "id": "xIKEqsTYOvXd",
        "colab_type": "text"
      },
      "source": [
        "This helps with predictions especially when using machine learning algorithms that use Euclidean distances. "
      ]
    },
    {
      "cell_type": "code",
      "metadata": {
        "id": "wFxqZt63cfAA",
        "colab_type": "code",
        "colab": {}
      },
      "source": [
        "merged = merge[['Customers','CompetitionDistance','Promo','Promo2','StateHoliday','StoreType','Assortment','AvgSales','AvgCustomers','AvgSalesPerCustomer','MedSales','MedCustomers','MedSalesPerCustomer','DayOfWeek','Week','Day','Month','Year','CompetitionOpenSinceMonth','CompetitionOpenSinceYear','Promo2SinceWeek','Promo2SinceYear']]"
      ],
      "execution_count": null,
      "outputs": []
    },
    {
      "cell_type": "code",
      "metadata": {
        "id": "xYlSUwQfWKCz",
        "colab_type": "code",
        "colab": {}
      },
      "source": [
        "scaler = StandardScaler()\n",
        "scaled_df = scaler.fit_transform(merged)\n",
        "merged = pd.DataFrame(scaled_df,columns = ['Customers','CompetitionDistance','Promo','Promo2','StateHoliday','StoreType','Assortment','AvgSales','AvgCustomers','AvgSalesPerCustomer','MedSales','MedCustomers','MedSalesPerCustomer','DayOfWeek','Week','Day','Month','Year','CompetitionOpenSinceMonth','CompetitionOpenSinceYear','Promo2SinceWeek','Promo2SinceYear'])"
      ],
      "execution_count": null,
      "outputs": []
    },
    {
      "cell_type": "code",
      "metadata": {
        "id": "FHO9oXZCimgy",
        "colab_type": "code",
        "colab": {}
      },
      "source": [
        "merged[['Sales','Store']] = merge[['Sales','Store']]"
      ],
      "execution_count": null,
      "outputs": []
    },
    {
      "cell_type": "markdown",
      "metadata": {
        "id": "LvuiGY8_PAbg",
        "colab_type": "text"
      },
      "source": [
        "# **Building models with sklearn pipelines**"
      ]
    },
    {
      "cell_type": "code",
      "metadata": {
        "id": "IRJr1BUlPD8I",
        "colab_type": "code",
        "colab": {}
      },
      "source": [
        "X = merged[['Store','Customers','CompetitionDistance','Promo','Promo2','StateHoliday','StoreType','Assortment','AvgSales','AvgCustomers','AvgSalesPerCustomer','MedSales','MedCustomers','MedSalesPerCustomer','DayOfWeek','Week','Day','Month','Year','CompetitionOpenSinceMonth','CompetitionOpenSinceYear','Promo2SinceWeek','Promo2SinceYear']]\n",
        "y = merged['Sales']\n",
        "X_train, X_test, y_train, y_test = train_test_split(X, y, test_size=0.25, random_state=10)"
      ],
      "execution_count": null,
      "outputs": []
    },
    {
      "cell_type": "markdown",
      "metadata": {
        "id": "SDWKphsh55C8",
        "colab_type": "text"
      },
      "source": [
        "A reasonable starting point will be to use any of the tree based algorithms. Random forests Regressor will make for a good start. \n",
        "\n",
        "MSE criterion is the sum of squared distances between our target variable and predicted values."
      ]
    },
    {
      "cell_type": "code",
      "metadata": {
        "id": "B2mj5VsIU-Zx",
        "colab_type": "code",
        "colab": {}
      },
      "source": [
        "# create regressor object \n",
        "regressor = RandomForestRegressor(n_estimators=10,criterion='mse',n_jobs=4) \n",
        "  \n",
        "# fit the regressor with x and y data \n",
        "regressor = regressor.fit(X_train,y_train)"
      ],
      "execution_count": null,
      "outputs": []
    },
    {
      "cell_type": "code",
      "metadata": {
        "id": "p5zPedyXkVWf",
        "colab_type": "code",
        "colab": {}
      },
      "source": [
        "y_pred = regressor.predict(X_test)"
      ],
      "execution_count": null,
      "outputs": []
    },
    {
      "cell_type": "code",
      "metadata": {
        "id": "OV4OpRcr2GnA",
        "colab_type": "code",
        "colab": {
          "base_uri": "https://localhost:8080/",
          "height": 357
        },
        "outputId": "6de459a5-1141-432e-d08d-6b12d04f3284"
      },
      "source": [
        "plt.hist(y_pred)"
      ],
      "execution_count": null,
      "outputs": [
        {
          "output_type": "execute_result",
          "data": {
            "text/plain": [
              "(array([  251.,  3443., 15452., 33873., 49195., 39932., 29973., 21374.,\n",
              "        14492.,  3100.]),\n",
              " array([  148.3 ,  1332.21,  2516.12,  3700.03,  4883.94,  6067.85,\n",
              "         7251.76,  8435.67,  9619.58, 10803.49, 11987.4 ]),\n",
              " <a list of 10 Patch objects>)"
            ]
          },
          "metadata": {
            "tags": []
          },
          "execution_count": 27
        },
        {
          "output_type": "display_data",
          "data": {
            "image/png": "[encoded data removed]",
            "text/plain": [
              "<Figure size 432x288 with 1 Axes>"
            ]
          },
          "metadata": {
            "tags": [],
            "needs_background": "light"
          }
        }
      ]
    },
    {
      "cell_type": "code",
      "metadata": {
        "id": "-U35VbnF7iLq",
        "colab_type": "code",
        "colab": {
          "base_uri": "https://localhost:8080/",
          "height": 70
        },
        "outputId": "6fe00042-38af-46bc-bc18-1f37d5a202bd"
      },
      "source": [
        "print('Mean Absolute Error: %.4f' % metrics.mean_absolute_error(y_test, y_pred))\n",
        "print('Mean Squared Error: %.4f' % metrics.mean_squared_error(y_test, y_pred))\n",
        "print('Root Mean Squared Error: %.4f' % np.sqrt(metrics.mean_squared_error(y_test, y_pred)))"
      ],
      "execution_count": null,
      "outputs": [
        {
          "output_type": "stream",
          "text": [
            "Mean Absolute Error: 373.3648\n",
            "Mean Squared Error: 491467.4817\n",
            "Root Mean Squared Error: 701.0474\n"
          ],
          "name": "stdout"
        }
      ]
    },
    {
      "cell_type": "code",
      "metadata": {
        "id": "3NBJVh3T8T3D",
        "colab_type": "code",
        "colab": {
          "base_uri": "https://localhost:8080/",
          "height": 35
        },
        "outputId": "a9875cc2-ca64-4934-b27d-5ae9d7e3309e"
      },
      "source": [
        "# score on test data (accuracy)\n",
        "acc = regressor.score(X_test, y_test)\n",
        "print('Accuracy percent: %.4f' % (acc*100))"
      ],
      "execution_count": null,
      "outputs": [
        {
          "output_type": "stream",
          "text": [
            "Accuracy percent: 89.6155\n"
          ],
          "name": "stdout"
        }
      ]
    },
    {
      "cell_type": "markdown",
      "metadata": {
        "id": "p8hmet_CSMCO",
        "colab_type": "text"
      },
      "source": [
        "### **Using Prophet**"
      ]
    },
    {
      "cell_type": "markdown",
      "metadata": {
        "id": "R7vzda7wQ08X",
        "colab_type": "text"
      },
      "source": [
        "Forecast sales in the stores across several cities six weeks ahead of time."
      ]
    },
    {
      "cell_type": "code",
      "metadata": {
        "id": "r3fwroifj9gB",
        "colab_type": "code",
        "colab": {}
      },
      "source": [
        "p_model = Prophet(daily_seasonality=True )\n",
        "future = data_train[['Date','Sales']]\n",
        "future = future.rename(columns={'Date':'ds','Sales':'y'})\n",
        "p_model.fit(future)\n",
        "\n",
        "# dataframe that extends into future 6 weeks \n",
        "future_dates = p_model.make_future_dataframe(periods = 6*7)\n",
        "forecast = p_model.predict(future_dates)\n",
        "forecast[['ds', 'y_pred', 'y_pred_lower', 'y_pred_upper']].tail()"
      ],
      "execution_count": null,
      "outputs": []
    },
    {
      "cell_type": "code",
      "metadata": {
        "id": "0wX0CvXLkcD0",
        "colab_type": "code",
        "colab": {}
      },
      "source": [
        "forecast = m.predict(future_dates.head(100,000))\n",
        "\n",
        "# preditions for last week\n",
        "forecast.tail(10)#"
      ],
      "execution_count": null,
      "outputs": []
    },
    {
      "cell_type": "markdown",
      "metadata": {
        "id": "semA7ENuHmxC",
        "colab_type": "text"
      },
      "source": [
        "### **Loss Function**"
      ]
    },
    {
      "cell_type": "markdown",
      "metadata": {
        "id": "zJBdpwmXRGAn",
        "colab_type": "text"
      },
      "source": [
        "Loss functions indicate how well our model is performing. \n",
        "\n",
        "This means that the loss functions affect the overall output of sales prediction. "
      ]
    },
    {
      "cell_type": "markdown",
      "metadata": {
        "id": "TFl7EquFLIXV",
        "colab_type": "text"
      },
      "source": [
        "Huber loss is less sensitive to outliers in data than the squared error loss. It’s also differentiable at 0. It’s basically absolute error, which becomes quadratic when error is small. \n",
        "\n",
        "It combines the best of Mean Absolute Error and Mean Square Error."
      ]
    },
    {
      "cell_type": "code",
      "metadata": {
        "id": "w1frec1eHp5x",
        "colab_type": "code",
        "colab": {
          "base_uri": "https://localhost:8080/",
          "height": 35
        },
        "outputId": "16fda1b2-e536-450a-d0f6-e8c76f007f0d"
      },
      "source": [
        "l_regressor = GradientBoostingRegressor(loss='huber')\n",
        "l_regressor.fit(X_train, y_train)\n",
        "l_regressor.predict(X_test)\n",
        "l_regressor.score(X_test, y_test)"
      ],
      "execution_count": null,
      "outputs": [
        {
          "output_type": "execute_result",
          "data": {
            "text/plain": [
              "0.8090222389996382"
            ]
          },
          "metadata": {
            "tags": []
          },
          "execution_count": 30
        }
      ]
    },
    {
      "cell_type": "markdown",
      "metadata": {
        "id": "u4-QHV2h4G8c",
        "colab_type": "text"
      },
      "source": [
        "# **Pipeline**"
      ]
    },
    {
      "cell_type": "markdown",
      "metadata": {
        "id": "iVJ2Dxh5RuWu",
        "colab_type": "text"
      },
      "source": [
        "Pipelines makes modeling modular and more reproducible."
      ]
    },
    {
      "cell_type": "code",
      "metadata": {
        "id": "kY_sha6Pl9Fo",
        "colab_type": "code",
        "colab": {
          "base_uri": "https://localhost:8080/",
          "height": 35
        },
        "outputId": "6e7fc827-5274-4d7e-ce13-067cc67a746e"
      },
      "source": [
        "r_pipeline = Pipeline(steps=[('m', regressor)])\n",
        "r_pipeline.fit(X_train,y_train)\n",
        "y_pred = r_pipeline.predict(X_test)\n",
        "r_pipeline.score(X_test, y_test)"
      ],
      "execution_count": null,
      "outputs": [
        {
          "output_type": "execute_result",
          "data": {
            "text/plain": [
              "0.8960280574589763"
            ]
          },
          "metadata": {
            "tags": []
          },
          "execution_count": 31
        }
      ]
    },
    {
      "cell_type": "code",
      "metadata": {
        "id": "8HSsTMPPR9ad",
        "colab_type": "code",
        "colab": {
          "base_uri": "https://localhost:8080/"
        },
        "outputId": "2ca1e759-c8fa-4af0-fd63-84cb102ca807"
      },
      "source": [
        "l_pipeline = Pipeline(steps=[('m', l_regressor)])\n",
        "l_pipeline.fit(X_train,y_train)\n",
        "y_pred = l_pipeline.predict(X_test)\n",
        "l_pipeline.score(X_test, y_test)"
      ],
      "execution_count": null,
      "outputs": [
        {
          "output_type": "execute_result",
          "data": {
            "text/plain": [
              "0.8090222389996382"
            ]
          },
          "metadata": {
            "tags": []
          },
          "execution_count": 35
        }
      ]
    },
    {
      "cell_type": "code",
      "metadata": {
        "id": "K4ozpdl6SQhx",
        "colab_type": "code",
        "colab": {
          "base_uri": "https://localhost:8080/"
        },
        "outputId": "26a94b6e-2550-4c49-e7cc-331ded6b7ae9"
      },
      "source": [
        "p_pipeline = Pipeline(steps=[('m', p_model)])\n",
        "p_pipeline.fit(X_train,y_train)\n",
        "y_pred = p_pipeline.predict(X_test)\n",
        "p_pipeline.score(X_test, y_test)"
      ],
      "execution_count": null,
      "outputs": [
        {
          "output_type": "error",
          "ename": "NameError",
          "evalue": "ignored",
          "traceback": [
            "\u001b[0;31m---------------------------------------------------------------------------\u001b[0m",
            "\u001b[0;31mNameError\u001b[0m                                 Traceback (most recent call last)",
            "\u001b[0;32m<ipython-input-36-6d5988b8d20b>\u001b[0m in \u001b[0;36m<module>\u001b[0;34m()\u001b[0m\n\u001b[0;32m----> 1\u001b[0;31m \u001b[0mp_pipeline\u001b[0m \u001b[0;34m=\u001b[0m \u001b[0mPipeline\u001b[0m\u001b[0;34m(\u001b[0m\u001b[0msteps\u001b[0m\u001b[0;34m=\u001b[0m\u001b[0;34m[\u001b[0m\u001b[0;34m(\u001b[0m\u001b[0;34m'm'\u001b[0m\u001b[0;34m,\u001b[0m \u001b[0mp_model\u001b[0m\u001b[0;34m)\u001b[0m\u001b[0;34m]\u001b[0m\u001b[0;34m)\u001b[0m\u001b[0;34m\u001b[0m\u001b[0;34m\u001b[0m\u001b[0m\n\u001b[0m\u001b[1;32m      2\u001b[0m \u001b[0mp_pipeline\u001b[0m\u001b[0;34m.\u001b[0m\u001b[0mfit\u001b[0m\u001b[0;34m(\u001b[0m\u001b[0mX_train\u001b[0m\u001b[0;34m,\u001b[0m\u001b[0my_train\u001b[0m\u001b[0;34m)\u001b[0m\u001b[0;34m\u001b[0m\u001b[0;34m\u001b[0m\u001b[0m\n\u001b[1;32m      3\u001b[0m \u001b[0my_pred\u001b[0m \u001b[0;34m=\u001b[0m \u001b[0mp_pipeline\u001b[0m\u001b[0;34m.\u001b[0m\u001b[0mpredict\u001b[0m\u001b[0;34m(\u001b[0m\u001b[0mX_test\u001b[0m\u001b[0;34m)\u001b[0m\u001b[0;34m\u001b[0m\u001b[0;34m\u001b[0m\u001b[0m\n\u001b[1;32m      4\u001b[0m \u001b[0mp_pipeline\u001b[0m\u001b[0;34m.\u001b[0m\u001b[0mscore\u001b[0m\u001b[0;34m(\u001b[0m\u001b[0mX_test\u001b[0m\u001b[0;34m,\u001b[0m \u001b[0my_test\u001b[0m\u001b[0;34m)\u001b[0m\u001b[0;34m\u001b[0m\u001b[0;34m\u001b[0m\u001b[0m\n",
            "\u001b[0;31mNameError\u001b[0m: name 'p_model' is not defined"
          ]
        }
      ]
    },
    {
      "cell_type": "markdown",
      "metadata": {
        "id": "FdqSFB2XPMWk",
        "colab_type": "text"
      },
      "source": [
        "# **Post Prediction analysis**"
      ]
    },
    {
      "cell_type": "code",
      "metadata": {
        "id": "_x_asNOePPB8",
        "colab_type": "code",
        "colab": {}
      },
      "source": [
        "importances = pd.DataFrame()\n",
        "# Variable importances with Random Forest, default parameters\n",
        "importances[\"RF\"] = pd.Series(regressor.feature_importances_,index=X.columns)\n",
        "\n",
        "# Variable importances with Totally Randomized Trees\n",
        "regressor = ExtraTreesRegressor(max_features=1, max_depth=3,n_estimators=10000, n_jobs=-1).fit(X_train, y_train)\n",
        "importances[\"TRTs\"] = pd.Series(regressor.feature_importances_,index=X.columns)\n",
        "\n",
        "# Variable importances with GBRT\n",
        "importances[\"GBRT\"] = pd.Series(l_regressor.feature_importances_,index=X.columns)"
      ],
      "execution_count": null,
      "outputs": []
    },
    {
      "cell_type": "code",
      "metadata": {
        "id": "RIw0yWIzNeea",
        "colab_type": "code",
        "colab": {}
      },
      "source": [
        "importances.plot(kind=\"barh\",figsize = (20,20))"
      ],
      "execution_count": null,
      "outputs": []
    },
    {
      "cell_type": "markdown",
      "metadata": {
        "id": "0b1KH-a_PPVM",
        "colab_type": "text"
      },
      "source": [
        "# **Serialize models**"
      ]
    },
    {
      "cell_type": "markdown",
      "metadata": {
        "id": "EsjzzBDhTbK_",
        "colab_type": "text"
      },
      "source": [
        "This is necessary to track predictions from various models.\n"
      ]
    },
    {
      "cell_type": "code",
      "metadata": {
        "id": "fPs1vMKaBUei",
        "colab_type": "code",
        "colab": {}
      },
      "source": [
        "# dump the pipeline model using pickle\n",
        "filename=\"pipeline/r_10-08-2020-16-32-31-00.sav\"\n",
        "pickle.dump(r_pipeline, open(filename,\"wb\"))"
      ],
      "execution_count": null,
      "outputs": []
    },
    {
      "cell_type": "code",
      "metadata": {
        "id": "t2nOs0qCS7BS",
        "colab_type": "code",
        "colab": {}
      },
      "source": [
        "# dump the pipeline model using pickle\n",
        "filename=\"pipeline/l_10-08-2020-16-32-31-00.sav\"\n",
        "pickle.dump(l_pipeline, open(filename,\"wb\"))"
      ],
      "execution_count": null,
      "outputs": []
    },
    {
      "cell_type": "code",
      "metadata": {
        "id": "Pe1MSTDOS7hJ",
        "colab_type": "code",
        "colab": {}
      },
      "source": [
        "# dump the pipeline model using pickle\n",
        "filename=\"pipeline/p_10-08-2020-16-32-31-00.sav\"\n",
        "pickle.dump(p_pipeline, open(filename,\"wb\"))"
      ],
      "execution_count": null,
      "outputs": []
    },
    {
      "cell_type": "code",
      "metadata": {
        "id": "V8HdhVZRS_rk",
        "colab_type": "code",
        "colab": {}
      },
      "source": [
        "# dump the pipeline model using joblib\n",
        "dump(r_pipeline, filename=\"pipeline/r_10-08-2020-16-32-31-00.joblib\")"
      ],
      "execution_count": null,
      "outputs": []
    },
    {
      "cell_type": "code",
      "metadata": {
        "id": "s7RqDjsUS_09",
        "colab_type": "code",
        "colab": {}
      },
      "source": [
        "# dump the pipeline model using joblib\n",
        "dump(l_pipeline, filename=\"pipeline/l_10-08-2020-16-32-31-00.joblib\")"
      ],
      "execution_count": null,
      "outputs": []
    },
    {
      "cell_type": "code",
      "metadata": {
        "id": "L6H0X3SNS_8g",
        "colab_type": "code",
        "colab": {}
      },
      "source": [
        "# dump the pipeline model using joblib\n",
        "dump(p_pipeline, filename=\"pipeline/p_10-08-2020-16-32-31-00.joblib\")"
      ],
      "execution_count": null,
      "outputs": []
    },
    {
      "cell_type": "code",
      "metadata": {
        "id": "WzST-sE_VxWc",
        "colab_type": "code",
        "colab": {}
      },
      "source": [
        ""
      ],
      "execution_count": null,
      "outputs": []
    }
  ]
}